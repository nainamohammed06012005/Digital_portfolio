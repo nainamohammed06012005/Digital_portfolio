{
  "cells": [
    {
      "cell_type": "markdown",
      "metadata": {
        "id": "view-in-github",
        "colab_type": "text"
      },
      "source": [
        "<a href=\"https://colab.research.google.com/github/nainamohammed06012005/Digital_portfolio/blob/main/Encapsulationperson.ipynb\" target=\"_parent\"><img src=\"https://colab.research.google.com/assets/colab-badge.svg\" alt=\"Open In Colab\"/></a>"
      ]
    },
    {
      "cell_type": "code",
      "source": [
        "class Person:\n",
        "    def __init__(self, name, age):\n",
        "        self.__name = name   # Private attribute\n",
        "        self.__age = age     # Private attribute\n",
        "\n",
        "    # Getter method for name\n",
        "    def get_name(self):\n",
        "        return self.__name\n",
        "\n",
        "    # Setter method for name\n",
        "    def set_name(self, name):\n",
        "        self.__name = name\n",
        "\n",
        "    # Getter method for age\n",
        "    def get_age(self):\n",
        "        return self.__age\n",
        "\n",
        "    # Setter method for age with validation\n",
        "    def set_age(self, age):\n",
        "        if age >= 0:\n",
        "            self.__age = age\n",
        "        else:\n",
        "            print(\"Age cannot be negative!\")\n",
        "\n",
        "    def display(self):\n",
        "        print(f\"Name: {self.__name}, Age: {self.__age}\")\n",
        "\n",
        "# Example usage\n",
        "person = Person(\"John\", 25)\n",
        "person.display()\n",
        "\n",
        "# Using setters to modify private attributes\n",
        "person.set_name(\"Jane\")\n",
        "person.set_age(30)\n",
        "person.display()\n",
        "\n",
        "# Trying to set invalid age\n",
        "person.set_age(-10)  # Will show an error message"
      ],
      "metadata": {
        "id": "VQF_d7c7K2Qa",
        "outputId": "7090522e-9789-46ea-9907-bf56dd8ae498",
        "colab": {
          "base_uri": "https://localhost:8080/"
        }
      },
      "execution_count": 21,
      "outputs": [
        {
          "output_type": "stream",
          "name": "stdout",
          "text": [
            "Name: John, Age: 25\n",
            "Name: Jane, Age: 30\n",
            "Age cannot be negative!\n"
          ]
        }
      ]
    }
  ],
  "metadata": {
    "colab": {
      "name": "Welcome To Colab",
      "provenance": [],
      "include_colab_link": true
    },
    "kernelspec": {
      "display_name": "Python 3",
      "name": "python3"
    }
  },
  "nbformat": 4,
  "nbformat_minor": 0
}