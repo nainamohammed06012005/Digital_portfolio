{
  "cells": [
    {
      "cell_type": "markdown",
      "metadata": {
        "id": "view-in-github",
        "colab_type": "text"
      },
      "source": [
        "<a href=\"https://colab.research.google.com/github/nainamohammed06012005/Digital_portfolio/blob/main/Inheritancevehicleorperson.ipynb\" target=\"_parent\"><img src=\"https://colab.research.google.com/assets/colab-badge.svg\" alt=\"Open In Colab\"/></a>"
      ]
    },
    {
      "cell_type": "code",
      "source": [
        "\n",
        "# Base class: Vehicle\n",
        "class Vehicle:\n",
        "    def __init__(self, make, model):\n",
        "        self.make = make\n",
        "        self.model = model\n",
        "\n",
        "    def display_info(self):\n",
        "        print(f\"Vehicle Make: {self.make}\")\n",
        "        print(f\"Vehicle Model: {self.model}\")\n",
        "\n",
        "# Derived class: Car inherits from Vehicle\n",
        "class Car(Vehicle):\n",
        "    def __init__(self, make, model, doors):\n",
        "        super().__init__(make, model)\n",
        "        self.doors = doors\n",
        "\n",
        "    def display_car_info(self):\n",
        "        self.display_info()\n",
        "        print(f\"Number of doors: {self.doors}\")\n",
        "\n",
        "# Base class: Person\n",
        "class Person:\n",
        "    def __init__(self, name, age):\n",
        "        self.name = name\n",
        "        self.age = age\n",
        "\n",
        "    def display_info(self):\n",
        "        print(f\"Name: {self.name}\")\n",
        "        print(f\"Age: {self.age}\")\n",
        "\n",
        "# Derived class: Student inherits from Person\n",
        "class Student(Person):\n",
        "    def __init__(self, name, age, student_id):\n",
        "        super().__init__(name, age)\n",
        "        self.student_id = student_id\n",
        "\n",
        "    def display_student_info(self):\n",
        "        self.display_info()\n",
        "        print(f\"Student ID: {self.student_id}\")\n",
        "\n",
        "# Create instances and show usage\n",
        "car = Car(\"Honda\", \"Civic\", 4)\n",
        "car.display_car_info()\n",
        "\n",
        "print()  # Blank line for readability\n",
        "\n",
        "student = Student(\"John Doe\", 20, \"ST123\")\n",
        "student.display_student_info()"
      ],
      "metadata": {
        "id": "RMl_Kv1aIsu6",
        "outputId": "803ef5df-223f-4663-c796-b284a191bcaf",
        "colab": {
          "base_uri": "https://localhost:8080/"
        }
      },
      "execution_count": 17,
      "outputs": [
        {
          "output_type": "stream",
          "name": "stdout",
          "text": [
            "Vehicle Make: Honda\n",
            "Vehicle Model: Civic\n",
            "Number of doors: 4\n",
            "\n",
            "Name: John Doe\n",
            "Age: 20\n",
            "Student ID: ST123\n"
          ]
        }
      ]
    }
  ],
  "metadata": {
    "colab": {
      "name": "Welcome To Colab",
      "provenance": [],
      "include_colab_link": true
    },
    "kernelspec": {
      "display_name": "Python 3",
      "name": "python3"
    }
  },
  "nbformat": 4,
  "nbformat_minor": 0
}