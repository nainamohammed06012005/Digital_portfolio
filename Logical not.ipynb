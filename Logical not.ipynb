{
  "cells": [
    {
      "cell_type": "markdown",
      "metadata": {
        "id": "view-in-github",
        "colab_type": "text"
      },
      "source": [
        "<a href=\"https://colab.research.google.com/github/nainamohammed06012005/Digital_portfolio/blob/main/Logical%20not.ipynb\" target=\"_parent\"><img src=\"https://colab.research.google.com/assets/colab-badge.svg\" alt=\"Open In Colab\"/></a>"
      ]
    },
    {
      "cell_type": "code",
      "source": [
        "# Boolean variable\n",
        "is_open = False\n",
        "\n",
        "# Using logical NOT\n",
        "if not is_open:\n",
        "    print(\"The door is closed.\")\n",
        "else:\n",
        "    print(\"The door is open.\")\n",
        "\n",
        "# More examples\n",
        "print(\"not True:\", not True)\n",
        "print(\"not False:\", not False)"
      ],
      "metadata": {
        "id": "VSMGrl2BICKM",
        "outputId": "dd0d849d-4525-4060-df9c-38349f1eabc0",
        "colab": {
          "base_uri": "https://localhost:8080/"
        }
      },
      "execution_count": 15,
      "outputs": [
        {
          "output_type": "stream",
          "name": "stdout",
          "text": [
            "The door is closed.\n",
            "not True: False\n",
            "not False: True\n"
          ]
        }
      ]
    }
  ],
  "metadata": {
    "colab": {
      "name": "Welcome To Colab",
      "provenance": [],
      "include_colab_link": true
    },
    "kernelspec": {
      "display_name": "Python 3",
      "name": "python3"
    }
  },
  "nbformat": 4,
  "nbformat_minor": 0
}