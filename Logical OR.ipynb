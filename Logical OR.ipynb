{
  "cells": [
    {
      "cell_type": "markdown",
      "metadata": {
        "id": "view-in-github",
        "colab_type": "text"
      },
      "source": [
        "<a href=\"https://colab.research.google.com/github/nainamohammed06012005/Digital_portfolio/blob/main/Logical%20OR.ipynb\" target=\"_parent\"><img src=\"https://colab.research.google.com/assets/colab-badge.svg\" alt=\"Open In Colab\"/></a>"
      ]
    },
    {
      "cell_type": "code",
      "source": [
        "# Boolean variables\n",
        "is_raining = False\n",
        "has_umbrella = True\n",
        "\n",
        "# Using logical OR\n",
        "if is_raining or has_umbrella:\n",
        "    print(\"You can go outside.\")\n",
        "else:\n",
        "    print(\"You should stay indoors.\")\n",
        "\n",
        "# More examples\n",
        "print(\"False or False:\", False or False)\n",
        "print(\"True or False:\", True or False)\n",
        "print(\"False or True:\", False or True)"
      ],
      "metadata": {
        "id": "BqHI7kf5H0lH",
        "outputId": "6930fd2e-4bb2-4a9f-f8d3-b1d4730dbe65",
        "colab": {
          "base_uri": "https://localhost:8080/"
        }
      },
      "execution_count": 14,
      "outputs": [
        {
          "output_type": "stream",
          "name": "stdout",
          "text": [
            "You can go outside.\n",
            "False or False: False\n",
            "True or False: True\n",
            "False or True: True\n"
          ]
        }
      ]
    }
  ],
  "metadata": {
    "colab": {
      "name": "Welcome To Colab",
      "provenance": [],
      "include_colab_link": true
    },
    "kernelspec": {
      "display_name": "Python 3",
      "name": "python3"
    }
  },
  "nbformat": 4,
  "nbformat_minor": 0
}