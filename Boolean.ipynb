{
  "cells": [
    {
      "cell_type": "markdown",
      "metadata": {
        "id": "view-in-github",
        "colab_type": "text"
      },
      "source": [
        "<a href=\"https://colab.research.google.com/github/nainamohammed06012005/Digital_portfolio/blob/main/Boolean.ipynb\" target=\"_parent\"><img src=\"https://colab.research.google.com/assets/colab-badge.svg\" alt=\"Open In Colab\"/></a>"
      ]
    },
    {
      "cell_type": "code",
      "source": [
        "# Boolean variables\n",
        "is_raining = True\n",
        "is_sunny = False\n",
        "\n",
        "# Display the values\n",
        "print(\"Is it raining?\", is_raining)\n",
        "print(\"Is it sunny?\", is_sunny)\n",
        "\n",
        "# Logical operations\n",
        "print(\"Not raining:\", not is_raining)\n",
        "print(\"Raining and sunny:\", is_raining and is_sunny)\n",
        "print(\"Raining or sunny:\", is_raining or is_sunny)\n",
        "\n",
        "# Comparison operations (also return booleans)\n",
        "a = 10\n",
        "b = 5\n",
        "print(\"Is a greater than b?\", a > b)\n",
        "print(\"Is a equal to b?\", a == b)\n",
        "print(\"Is a not equal to b?\", a != b)\n",
        "\n",
        "# Type check\n",
        "print(\"Type of is_raining:\", type(is_raining))"
      ],
      "metadata": {
        "id": "Fc1WrvyUD-MF",
        "outputId": "ce3580fa-2dd7-4e81-8d2a-7662736c62d7",
        "colab": {
          "base_uri": "https://localhost:8080/"
        }
      },
      "execution_count": 6,
      "outputs": [
        {
          "output_type": "stream",
          "name": "stdout",
          "text": [
            "Is it raining? True\n",
            "Is it sunny? False\n",
            "Not raining: False\n",
            "Raining and sunny: False\n",
            "Raining or sunny: True\n",
            "Is a greater than b? True\n",
            "Is a equal to b? False\n",
            "Is a not equal to b? True\n",
            "Type of is_raining: <class 'bool'>\n"
          ]
        }
      ]
    }
  ],
  "metadata": {
    "colab": {
      "name": "Welcome To Colab",
      "provenance": [],
      "include_colab_link": true
    },
    "kernelspec": {
      "display_name": "Python 3",
      "name": "python3"
    }
  },
  "nbformat": 4,
  "nbformat_minor": 0
}