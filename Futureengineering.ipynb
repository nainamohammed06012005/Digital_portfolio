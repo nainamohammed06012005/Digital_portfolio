{
  "cells": [
    {
      "cell_type": "markdown",
      "metadata": {
        "id": "view-in-github",
        "colab_type": "text"
      },
      "source": [
        "<a href=\"https://colab.research.google.com/github/nainamohammed06012005/Digital_portfolio/blob/main/Futureengineering.ipynb\" target=\"_parent\"><img src=\"https://colab.research.google.com/assets/colab-badge.svg\" alt=\"Open In Colab\"/></a>"
      ]
    },
    {
      "cell_type": "code",
      "source": [
        "import concurrent.futures\n",
        "import time\n",
        "\n",
        "def engineer_task(name, duration):\n",
        "    print(f\"{name} started working...\")\n",
        "    time.sleep(duration)\n",
        "    return f\"{name} completed the task in {duration} seconds.\"\n",
        "\n",
        "# Use ThreadPoolExecutor to run tasks concurrently\n",
        "with concurrent.futures.ThreadPoolExecutor() as executor:\n",
        "    future1 = executor.submit(engineer_task, \"Engineer 1\", 3)\n",
        "    future2 = executor.submit(engineer_task, \"Engineer 2\", 2)\n",
        "\n",
        "    print(future1.result())  # Waits for Engineer 1's task to complete\n",
        "    print(future2.result())  # Waits for Engineer 2's task to complete"
      ],
      "metadata": {
        "id": "l3qdEtJNM1Lg",
        "outputId": "b9ae7b96-88b4-48aa-ad7f-e1cab613daee",
        "colab": {
          "base_uri": "https://localhost:8080/"
        }
      },
      "execution_count": 26,
      "outputs": [
        {
          "output_type": "stream",
          "name": "stdout",
          "text": [
            "Engineer 1 started working...Engineer 2 started working...\n",
            "\n",
            "Engineer 1 completed the task in 3 seconds.\n",
            "Engineer 2 completed the task in 2 seconds.\n"
          ]
        }
      ]
    }
  ],
  "metadata": {
    "colab": {
      "name": "Welcome To Colab",
      "provenance": [],
      "include_colab_link": true
    },
    "kernelspec": {
      "display_name": "Python 3",
      "name": "python3"
    }
  },
  "nbformat": 4,
  "nbformat_minor": 0
}