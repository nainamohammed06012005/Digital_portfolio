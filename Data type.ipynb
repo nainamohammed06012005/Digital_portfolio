{
  "cells": [
    {
      "cell_type": "markdown",
      "metadata": {
        "id": "view-in-github",
        "colab_type": "text"
      },
      "source": [
        "<a href=\"https://colab.research.google.com/github/nainamohammed06012005/Digital_portfolio/blob/main/Data%20type.ipynb\" target=\"_parent\"><img src=\"https://colab.research.google.com/assets/colab-badge.svg\" alt=\"Open In Colab\"/></a>"
      ]
    },
    {
      "cell_type": "code",
      "source": [
        "# Integer\n",
        "age = 25\n",
        "print(\"Age:\", age, \"| Type:\", type(age))\n",
        "\n",
        "# Float\n",
        "price = 19.99\n",
        "print(\"Price:\", price, \"| Type:\", type(price))\n",
        "\n",
        "# String\n",
        "name = \"Alice\"\n",
        "print(\"Name:\", name, \"| Type:\", type(name))\n",
        "\n",
        "# Boolean\n",
        "is_student = True\n",
        "print(\"Is Student:\", is_student, \"| Type:\", type(is_student))\n",
        "\n",
        "# List\n",
        "fruits = [\"apple\", \"banana\", \"cherry\"]\n",
        "print(\"Fruits:\", fruits, \"| Type:\", type(fruits))\n",
        "\n",
        "# Tuple\n",
        "coordinates = (10.0, 20.0)\n",
        "print(\"Coordinates:\", coordinates, \"| Type:\", type(coordinates))\n",
        "\n",
        "# Dictionary\n",
        "person = {\"name\": \"Bob\", \"age\": 30}\n",
        "print(\"Person:\", person, \"| Type:\", type(person))\n",
        "\n",
        "# Set\n",
        "unique_numbers = {1, 2, 3, 3, 4}\n",
        "print(\"Unique Numbers:\", unique_numbers, \"| Type:\", type(unique_numbers))\n",
        "\n",
        "# NoneType\n",
        "nothing = None\n",
        "print(\"Nothing:\", nothing, \"| Type:\", type(nothing))"
      ],
      "metadata": {
        "id": "BmxEdnDpB-o1",
        "outputId": "9635eed8-8cd9-4fac-e142-f1b18e6db967",
        "colab": {
          "base_uri": "https://localhost:8080/"
        }
      },
      "execution_count": 1,
      "outputs": [
        {
          "output_type": "stream",
          "name": "stdout",
          "text": [
            "Age: 25 | Type: <class 'int'>\n",
            "Price: 19.99 | Type: <class 'float'>\n",
            "Name: Alice | Type: <class 'str'>\n",
            "Is Student: True | Type: <class 'bool'>\n",
            "Fruits: ['apple', 'banana', 'cherry'] | Type: <class 'list'>\n",
            "Coordinates: (10.0, 20.0) | Type: <class 'tuple'>\n",
            "Person: {'name': 'Bob', 'age': 30} | Type: <class 'dict'>\n",
            "Unique Numbers: {1, 2, 3, 4} | Type: <class 'set'>\n",
            "Nothing: None | Type: <class 'NoneType'>\n"
          ]
        }
      ]
    }
  ],
  "metadata": {
    "colab": {
      "name": "Welcome To Colab",
      "provenance": [],
      "include_colab_link": true
    },
    "kernelspec": {
      "display_name": "Python 3",
      "name": "python3"
    }
  },
  "nbformat": 4,
  "nbformat_minor": 0
}