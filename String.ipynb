{
  "cells": [
    {
      "cell_type": "markdown",
      "metadata": {
        "id": "view-in-github",
        "colab_type": "text"
      },
      "source": [
        "<a href=\"https://colab.research.google.com/github/nainamohammed06012005/Digital_portfolio/blob/main/String.ipynb\" target=\"_parent\"><img src=\"https://colab.research.google.com/assets/colab-badge.svg\" alt=\"Open In Colab\"/></a>"
      ]
    },
    {
      "cell_type": "code",
      "source": [
        "# String declaration\n",
        "greeting = \"Hello\"\n",
        "name = \"Alice\"\n",
        "\n",
        "# String concatenation\n",
        "message = greeting + \", \" + name + \"!\"\n",
        "print(\"Concatenation:\", message)\n",
        "\n",
        "# String length\n",
        "print(\"Length of message:\", len(message))\n",
        "\n",
        "# Accessing characters\n",
        "print(\"First character:\", message[0])\n",
        "print(\"Last character:\", message[-1])\n",
        "\n",
        "# String slicing\n",
        "print(\"Slice (0:5):\", message[0:5])\n",
        "\n",
        "# Changing case\n",
        "print(\"Uppercase:\", message.upper())\n",
        "print(\"Lowercase:\", message.lower())\n",
        "\n",
        "# String methods\n",
        "print(\"Starts with 'Hello':\", message.startswith(\"Hello\"))\n",
        "print(\"Ends with '!':\", message.endswith(\"!\"))\n",
        "\n",
        "# Splitting and joining\n",
        "words = message.split(\", \")\n",
        "print(\"Split message:\", words)\n",
        "\n",
        "joined = \" - \".join(words)\n",
        "print(\"Joined message:\", joined)\n",
        "\n",
        "# Replace\n",
        "new_message = message.replace(\"Alice\", \"Bob\")\n",
        "print(\"Replaced message:\", new_message)"
      ],
      "metadata": {
        "id": "UsU4Qv5tCtfF",
        "outputId": "d619bff0-c49c-4243-f632-9111a86b273d",
        "colab": {
          "base_uri": "https://localhost:8080/"
        }
      },
      "execution_count": 3,
      "outputs": [
        {
          "output_type": "stream",
          "name": "stdout",
          "text": [
            "Concatenation: Hello, Alice!\n",
            "Length of message: 13\n",
            "First character: H\n",
            "Last character: !\n",
            "Slice (0:5): Hello\n",
            "Uppercase: HELLO, ALICE!\n",
            "Lowercase: hello, alice!\n",
            "Starts with 'Hello': True\n",
            "Ends with '!': True\n",
            "Split message: ['Hello', 'Alice!']\n",
            "Joined message: Hello - Alice!\n",
            "Replaced message: Hello, Bob!\n"
          ]
        }
      ]
    }
  ],
  "metadata": {
    "colab": {
      "name": "Welcome To Colab",
      "provenance": [],
      "include_colab_link": true
    },
    "kernelspec": {
      "display_name": "Python 3",
      "name": "python3"
    }
  },
  "nbformat": 4,
  "nbformat_minor": 0
}