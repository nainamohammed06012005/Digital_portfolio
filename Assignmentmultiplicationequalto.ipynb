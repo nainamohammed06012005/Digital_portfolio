{
  "cells": [
    {
      "cell_type": "markdown",
      "metadata": {
        "id": "view-in-github",
        "colab_type": "text"
      },
      "source": [
        "<a href=\"https://colab.research.google.com/github/nainamohammed06012005/Digital_portfolio/blob/main/Assignmentmultiplicationequalto.ipynb\" target=\"_parent\"><img src=\"https://colab.research.google.com/assets/colab-badge.svg\" alt=\"Open In Colab\"/></a>"
      ]
    },
    {
      "cell_type": "code",
      "source": [
        "# Initial value\n",
        "number = 5\n",
        "\n",
        "# Display original value\n",
        "print(\"Original number:\", number)\n",
        "\n",
        "# Multiply and assign\n",
        "number *= 3  # Equivalent to: number = number * 3\n",
        "\n",
        "# Display result\n",
        "print(\"After multiplication assignment (number *= 3):\", number)"
      ],
      "metadata": {
        "colab": {
          "base_uri": "https://localhost:8080/"
        },
        "id": "3Teud0ytFV8e",
        "outputId": "88deb8e3-20a4-4b4e-d0a8-d6a617f19f39"
      },
      "execution_count": 10,
      "outputs": [
        {
          "output_type": "stream",
          "name": "stdout",
          "text": [
            "Original number: 5\n",
            "After multiplication assignment (number *= 3): 15\n"
          ]
        }
      ]
    }
  ],
  "metadata": {
    "colab": {
      "name": "Welcome To Colab",
      "provenance": [],
      "include_colab_link": true
    },
    "kernelspec": {
      "display_name": "Python 3",
      "name": "python3"
    }
  },
  "nbformat": 4,
  "nbformat_minor": 0
}