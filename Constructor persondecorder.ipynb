{
  "cells": [
    {
      "cell_type": "markdown",
      "metadata": {
        "id": "view-in-github",
        "colab_type": "text"
      },
      "source": [
        "<a href=\"https://colab.research.google.com/github/nainamohammed06012005/Digital_portfolio/blob/main/Constructor%20persondecorder.ipynb\" target=\"_parent\"><img src=\"https://colab.research.google.com/assets/colab-badge.svg\" alt=\"Open In Colab\"/></a>"
      ]
    },
    {
      "cell_type": "code",
      "source": [
        "# Base Person class with constructor\n",
        "class Person:\n",
        "    def __init__(self, name):\n",
        "        self.name = name\n",
        "\n",
        "    def show(self):\n",
        "        print(f\"Person: {self.name}\")\n",
        "\n",
        "# Decorator class that adds functionality to Person\n",
        "class PersonDecorator:\n",
        "    def __init__(self, person):\n",
        "        self.person = person\n",
        "\n",
        "    def show(self):\n",
        "        # Original behavior\n",
        "        self.person.show()\n",
        "        # Additional behavior\n",
        "        print(\"This person is decorated!\")\n",
        "\n",
        "# Usage\n",
        "person = Person(\"Alice\")\n",
        "decorated_person = PersonDecorator(person)\n",
        "\n",
        "person.show()             # Output: Person: Alice\n",
        "print(\"--- Decorated ---\")\n",
        "decorated_person.show()   # Output: Person: Alice + extra message_"
      ],
      "metadata": {
        "id": "SOYxuPgcME4T",
        "outputId": "960486b6-5498-4162-a2ba-28f93b9cd999",
        "colab": {
          "base_uri": "https://localhost:8080/"
        }
      },
      "execution_count": 24,
      "outputs": [
        {
          "output_type": "stream",
          "name": "stdout",
          "text": [
            "Person: Alice\n",
            "--- Decorated ---\n",
            "Person: Alice\n",
            "This person is decorated!\n"
          ]
        }
      ]
    }
  ],
  "metadata": {
    "colab": {
      "name": "Welcome To Colab",
      "provenance": [],
      "include_colab_link": true
    },
    "kernelspec": {
      "display_name": "Python 3",
      "name": "python3"
    }
  },
  "nbformat": 4,
  "nbformat_minor": 0
}