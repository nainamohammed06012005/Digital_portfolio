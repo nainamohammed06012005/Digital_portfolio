{
  "cells": [
    {
      "cell_type": "markdown",
      "metadata": {
        "id": "view-in-github",
        "colab_type": "text"
      },
      "source": [
        "<a href=\"https://colab.research.google.com/github/nainamohammed06012005/Digital_portfolio/blob/main/Aadhaar%20fill%20up%20form.ipynb\" target=\"_parent\"><img src=\"https://colab.research.google.com/assets/colab-badge.svg\" alt=\"Open In Colab\"/></a>"
      ]
    },
    {
      "cell_type": "code",
      "source": [
        "import tkinter as tk\n",
        "from tkinter import messagebox\n",
        "\n",
        "# Function to handle form submission\n",
        "def submit_form():\n",
        "    name = entry_name.get().strip()\n",
        "    dob = entry_dob.get().strip()\n",
        "    gender = gender_var.get()\n",
        "    address = address_text.get(\"1.0\", tk.END).strip()\n",
        "    mobile = entry_mobile.get().strip()\n",
        "    email = entry_email.get().strip()\n",
        "\n",
        "    # Validate required fields\n",
        "    if not name or not dob or not gender or not mobile:\n",
        "        messagebox.showerror(\"Missing Information\", \"Please fill all required fields marked with *\")\n",
        "        return\n",
        "\n",
        "    if not mobile.isdigit() or len(mobile) != 10:\n",
        "        messagebox.showerror(\"Invalid Mobile\", \"Please enter a valid 10-digit mobile number.\")\n",
        "        return\n",
        "\n",
        "    # Show the data as a confirmation\n",
        "    result = (\n",
        "        f\"✅ Aadhaar Form Submitted\\n\\n\"\n",
        "        f\"Name: {name}\\n\"\n",
        "        f\"DOB: {dob}\\n\"\n",
        "        f\"Gender: {gender}\\n\"\n",
        "        f\"Address: {address}\\n\"\n",
        "        f\"Mobile: {mobile}\\n\"\n",
        "        f\"Email: {email}\"\n",
        "    )\n",
        "    messagebox.showinfo(\"Form Submitted\", result)\n",
        "\n",
        "# Create main window\n",
        "root = tk.Tk()\n",
        "root.title(\"Aadhaar Enrollment Form\")\n",
        "root.geometry(\"400x600\")\n",
        "\n",
        "# Title\n",
        "tk.Label(root, text=\"AADHAAR ENROLLMENT FORM\", font=(\"Arial\", 16, \"bold\")).pack(pady=10)\n",
        "\n",
        "# Full Name\n",
        "tk.Label(root, text=\"Full Name *\").pack()\n",
        "entry_name = tk.Entry(root, width=40)\n",
        "entry_name.pack(pady=5)\n",
        "\n",
        "# Date of Birth\n",
        "tk.Label(root, text=\"Date of Birth (DD-MM-YYYY) *\").pack()\n",
        "entry_dob = tk.Entry(root, width=40)\n",
        "entry_dob.pack(pady=5)\n",
        "\n",
        "# Gender\n",
        "tk.Label(root, text=\"Gender *\").pack()\n",
        "gender_var = tk.StringVar()\n",
        "tk.Radiobutton(root, text=\"Male\", variable=gender_var, value=\"Male\").pack()\n",
        "tk.Radiobutton(root, text=\"Female\", variable=gender_var, value=\"Female\").pack()\n",
        "tk.Radiobutton(root, text=\"Other\", variable=gender_var, value=\"Other\").pack()\n",
        "\n",
        "# Address\n",
        "tk.Label(root, text=\"Address\").pack()\n",
        "address_text = tk.Text(root, width=30, height=4)\n",
        "address_text.pack(pady=5)\n",
        "\n",
        "# Mobile Number\n",
        "tk.Label(root, text=\"Mobile Number *\").pack()\n",
        "entry_mobile = tk.Entry(root, width=40)\n",
        "entry_mobile.pack(pady=5)\n",
        "\n",
        "# Email ID\n",
        "tk.Label(root, text=\"Email ID\").pack()\n",
        "entry_email = tk.Entry(root, width=40)\n",
        "entry_email.pack(pady=5)\n",
        "\n",
        "# Submit Button\n",
        "tk.Button(root, text=\"Submit\", command=submit_form, bg=\"blue\", fg=\"white\", width=20).pack(pady=20)\n",
        "\n",
        "# Run the GUI\n",
        "root.mainloop()"
      ],
      "metadata": {
        "id": "ZxVyA_jARS8P",
        "outputId": "f5f49c89-8675-4daa-820d-b537df308ff9",
        "colab": {
          "base_uri": "https://localhost:8080/",
          "height": 578
        }
      },
      "execution_count": 36,
      "outputs": [
        {
          "output_type": "error",
          "ename": "TclError",
          "evalue": "no display name and no $DISPLAY environment variable",
          "traceback": [
            "\u001b[0;31m---------------------------------------------------------------------------\u001b[0m",
            "\u001b[0;31mTclError\u001b[0m                                  Traceback (most recent call last)",
            "\u001b[0;32m/tmp/ipython-input-36-1236674423.py\u001b[0m in \u001b[0;36m<cell line: 0>\u001b[0;34m()\u001b[0m\n\u001b[1;32m     33\u001b[0m \u001b[0;34m\u001b[0m\u001b[0m\n\u001b[1;32m     34\u001b[0m \u001b[0;31m# Create main window\u001b[0m\u001b[0;34m\u001b[0m\u001b[0;34m\u001b[0m\u001b[0m\n\u001b[0;32m---> 35\u001b[0;31m \u001b[0mroot\u001b[0m \u001b[0;34m=\u001b[0m \u001b[0mtk\u001b[0m\u001b[0;34m.\u001b[0m\u001b[0mTk\u001b[0m\u001b[0;34m(\u001b[0m\u001b[0;34m)\u001b[0m\u001b[0;34m\u001b[0m\u001b[0;34m\u001b[0m\u001b[0m\n\u001b[0m\u001b[1;32m     36\u001b[0m \u001b[0mroot\u001b[0m\u001b[0;34m.\u001b[0m\u001b[0mtitle\u001b[0m\u001b[0;34m(\u001b[0m\u001b[0;34m\"Aadhaar Enrollment Form\"\u001b[0m\u001b[0;34m)\u001b[0m\u001b[0;34m\u001b[0m\u001b[0;34m\u001b[0m\u001b[0m\n\u001b[1;32m     37\u001b[0m \u001b[0mroot\u001b[0m\u001b[0;34m.\u001b[0m\u001b[0mgeometry\u001b[0m\u001b[0;34m(\u001b[0m\u001b[0;34m\"400x600\"\u001b[0m\u001b[0;34m)\u001b[0m\u001b[0;34m\u001b[0m\u001b[0;34m\u001b[0m\u001b[0m\n",
            "\u001b[0;32m/usr/lib/python3.11/tkinter/__init__.py\u001b[0m in \u001b[0;36m__init__\u001b[0;34m(self, screenName, baseName, className, useTk, sync, use)\u001b[0m\n\u001b[1;32m   2324\u001b[0m                 \u001b[0mbaseName\u001b[0m \u001b[0;34m=\u001b[0m \u001b[0mbaseName\u001b[0m \u001b[0;34m+\u001b[0m \u001b[0mext\u001b[0m\u001b[0;34m\u001b[0m\u001b[0;34m\u001b[0m\u001b[0m\n\u001b[1;32m   2325\u001b[0m         \u001b[0minteractive\u001b[0m \u001b[0;34m=\u001b[0m \u001b[0;32mFalse\u001b[0m\u001b[0;34m\u001b[0m\u001b[0;34m\u001b[0m\u001b[0m\n\u001b[0;32m-> 2326\u001b[0;31m         \u001b[0mself\u001b[0m\u001b[0;34m.\u001b[0m\u001b[0mtk\u001b[0m \u001b[0;34m=\u001b[0m \u001b[0m_tkinter\u001b[0m\u001b[0;34m.\u001b[0m\u001b[0mcreate\u001b[0m\u001b[0;34m(\u001b[0m\u001b[0mscreenName\u001b[0m\u001b[0;34m,\u001b[0m \u001b[0mbaseName\u001b[0m\u001b[0;34m,\u001b[0m \u001b[0mclassName\u001b[0m\u001b[0;34m,\u001b[0m \u001b[0minteractive\u001b[0m\u001b[0;34m,\u001b[0m \u001b[0mwantobjects\u001b[0m\u001b[0;34m,\u001b[0m \u001b[0museTk\u001b[0m\u001b[0;34m,\u001b[0m \u001b[0msync\u001b[0m\u001b[0;34m,\u001b[0m \u001b[0muse\u001b[0m\u001b[0;34m)\u001b[0m\u001b[0;34m\u001b[0m\u001b[0;34m\u001b[0m\u001b[0m\n\u001b[0m\u001b[1;32m   2327\u001b[0m         \u001b[0;32mif\u001b[0m \u001b[0museTk\u001b[0m\u001b[0;34m:\u001b[0m\u001b[0;34m\u001b[0m\u001b[0;34m\u001b[0m\u001b[0m\n\u001b[1;32m   2328\u001b[0m             \u001b[0mself\u001b[0m\u001b[0;34m.\u001b[0m\u001b[0m_loadtk\u001b[0m\u001b[0;34m(\u001b[0m\u001b[0;34m)\u001b[0m\u001b[0;34m\u001b[0m\u001b[0;34m\u001b[0m\u001b[0m\n",
            "\u001b[0;31mTclError\u001b[0m: no display name and no $DISPLAY environment variable"
          ]
        }
      ]
    }
  ],
  "metadata": {
    "colab": {
      "name": "Welcome To Colab",
      "provenance": [],
      "include_colab_link": true
    },
    "kernelspec": {
      "display_name": "Python 3",
      "name": "python3"
    }
  },
  "nbformat": 4,
  "nbformat_minor": 0
}