{
  "cells": [
    {
      "cell_type": "markdown",
      "metadata": {
        "id": "view-in-github",
        "colab_type": "text"
      },
      "source": [
        "<a href=\"https://colab.research.google.com/github/nainamohammed06012005/Digital_portfolio/blob/main/Assignment%20divide%20equal%20to.ipynb\" target=\"_parent\"><img src=\"https://colab.research.google.com/assets/colab-badge.svg\" alt=\"Open In Colab\"/></a>"
      ]
    },
    {
      "cell_type": "code",
      "source": [
        "# Assign an initial value\n",
        "x = 20\n",
        "\n",
        "# Display original value\n",
        "print(\"Initial value of x:\", x)\n",
        "\n",
        "# Use /= operator (divide x by 4 and assign back to x)\n",
        "x /= 4  # Same as: x = x / 4\n",
        "\n",
        "# Display result\n",
        "print(\"After x /= 4, value of x:\", x)"
      ],
      "metadata": {
        "id": "Y-h__HaeGtJg",
        "outputId": "c5c4656b-489e-45b9-ffbf-cf0fa5b3dd9b",
        "colab": {
          "base_uri": "https://localhost:8080/"
        }
      },
      "execution_count": 11,
      "outputs": [
        {
          "output_type": "stream",
          "name": "stdout",
          "text": [
            "Initial value of x: 20\n",
            "After x /= 4, value of x: 5.0\n"
          ]
        }
      ]
    }
  ],
  "metadata": {
    "colab": {
      "name": "Welcome To Colab",
      "provenance": [],
      "include_colab_link": true
    },
    "kernelspec": {
      "display_name": "Python 3",
      "name": "python3"
    }
  },
  "nbformat": 4,
  "nbformat_minor": 0
}