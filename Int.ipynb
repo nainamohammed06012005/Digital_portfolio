{
  "cells": [
    {
      "cell_type": "markdown",
      "metadata": {
        "id": "view-in-github",
        "colab_type": "text"
      },
      "source": [
        "<a href=\"https://colab.research.google.com/github/nainamohammed06012005/Digital_portfolio/blob/main/Int.ipynb\" target=\"_parent\"><img src=\"https://colab.research.google.com/assets/colab-badge.svg\" alt=\"Open In Colab\"/></a>"
      ]
    },
    {
      "cell_type": "code",
      "source": [],
      "metadata": {
        "id": "VXHJCdGaDLqk"
      },
      "execution_count": null,
      "outputs": []
    },
    {
      "cell_type": "code",
      "source": [
        "# Integer declaration\n",
        "a = 10\n",
        "b = 3\n",
        "\n",
        "# Display the values\n",
        "print(\"a =\", a)\n",
        "print(\"b =\", b)\n",
        "\n",
        "# Arithmetic operations\n",
        "print(\"Addition (a + b):\", a + b)\n",
        "print(\"Subtraction (a - b):\", a - b)\n",
        "print(\"Multiplication (a * b):\", a * b)\n",
        "print(\"Division (a / b):\", a / b)       # returns float\n",
        "print(\"Integer Division (a // b):\", a // b)  # returns int\n",
        "print(\"Modulus (a % b):\", a % b)\n",
        "print(\"Exponentiation (a ** b):\", a ** b)\n",
        "\n",
        "# Type check\n",
        "print(\"Type of a:\", type(a))"
      ],
      "metadata": {
        "id": "_h6Pw23DDN16",
        "outputId": "498b4d02-a4f7-4643-e771-fb9e54502110",
        "colab": {
          "base_uri": "https://localhost:8080/"
        }
      },
      "execution_count": 4,
      "outputs": [
        {
          "output_type": "stream",
          "name": "stdout",
          "text": [
            "a = 10\n",
            "b = 3\n",
            "Addition (a + b): 13\n",
            "Subtraction (a - b): 7\n",
            "Multiplication (a * b): 30\n",
            "Division (a / b): 3.3333333333333335\n",
            "Integer Division (a // b): 3\n",
            "Modulus (a % b): 1\n",
            "Exponentiation (a ** b): 1000\n",
            "Type of a: <class 'int'>\n"
          ]
        }
      ]
    }
  ],
  "metadata": {
    "colab": {
      "name": "Welcome To Colab",
      "provenance": [],
      "include_colab_link": true
    },
    "kernelspec": {
      "display_name": "Python 3",
      "name": "python3"
    }
  },
  "nbformat": 4,
  "nbformat_minor": 0
}