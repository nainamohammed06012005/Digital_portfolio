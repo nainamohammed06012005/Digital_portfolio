{
  "cells": [
    {
      "cell_type": "markdown",
      "metadata": {
        "id": "view-in-github",
        "colab_type": "text"
      },
      "source": [
        "<a href=\"https://colab.research.google.com/github/nainamohammed06012005/Digital_portfolio/blob/main/A%3D10%20B%3D5%20comparisonoperator.ipynb\" target=\"_parent\"><img src=\"https://colab.research.google.com/assets/colab-badge.svg\" alt=\"Open In Colab\"/></a>"
      ]
    },
    {
      "cell_type": "code",
      "source": [
        "A = 10\n",
        "B = 5\n",
        "\n",
        "print(\"A =\", A)\n",
        "print(\"B =\", B)\n",
        "\n",
        "print(\"A == B:\", A == B)   # Equal to\n",
        "print(\"A != B:\", A != B)   # Not equal to\n",
        "print(\"A > B:\", A > B)     # Greater than\n",
        "print(\"A < B:\", A < B)     # Less than\n",
        "print(\"A >= B:\", A >= B)   # Greater than or equal to\n",
        "print(\"A <= B:\", A <= B)   # Less than or equal to"
      ],
      "metadata": {
        "id": "pGL7h4OTHPpn",
        "outputId": "4cc97294-5bb1-4e60-ae32-2e24f299451e",
        "colab": {
          "base_uri": "https://localhost:8080/"
        }
      },
      "execution_count": 12,
      "outputs": [
        {
          "output_type": "stream",
          "name": "stdout",
          "text": [
            "A = 10\n",
            "B = 5\n",
            "A == B: False\n",
            "A != B: True\n",
            "A > B: True\n",
            "A < B: False\n",
            "A >= B: True\n",
            "A <= B: False\n"
          ]
        }
      ]
    }
  ],
  "metadata": {
    "colab": {
      "name": "Welcome To Colab",
      "provenance": [],
      "include_colab_link": true
    },
    "kernelspec": {
      "display_name": "Python 3",
      "name": "python3"
    }
  },
  "nbformat": 4,
  "nbformat_minor": 0
}