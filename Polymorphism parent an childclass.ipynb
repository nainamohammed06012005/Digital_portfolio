{
  "cells": [
    {
      "cell_type": "markdown",
      "metadata": {
        "id": "view-in-github",
        "colab_type": "text"
      },
      "source": [
        "<a href=\"https://colab.research.google.com/github/nainamohammed06012005/Digital_portfolio/blob/main/Polymorphism%20parent%20an%20childclass.ipynb\" target=\"_parent\"><img src=\"https://colab.research.google.com/assets/colab-badge.svg\" alt=\"Open In Colab\"/></a>"
      ]
    },
    {
      "cell_type": "code",
      "source": [
        "# Parent class\n",
        "class Parent:\n",
        "    def show_role(self):\n",
        "        print(\"I am a Parent.\")\n",
        "\n",
        "# Child class (Personal) inherits Parent\n",
        "class Personal(Parent):\n",
        "    # Overriding the show_role method\n",
        "    def show_role(self):\n",
        "        print(\"I am a Personal.\")\n",
        "\n",
        "# Function demonstrating polymorphism\n",
        "def introduce(entity):\n",
        "    entity.show_role()\n",
        "\n",
        "# Create objects\n",
        "parent = Parent()\n",
        "personal = Personal()\n",
        "\n",
        "# Call the function with different objects\n",
        "introduce(parent)    # Output: I am a Parent.\n",
        "introduce(personal)  # Output: I am a Personal."
      ],
      "metadata": {
        "id": "MomeVMa6Jmxh",
        "outputId": "93089d4b-8069-4f7c-a2dc-731884e05f6d",
        "colab": {
          "base_uri": "https://localhost:8080/"
        }
      },
      "execution_count": 18,
      "outputs": [
        {
          "output_type": "stream",
          "name": "stdout",
          "text": [
            "I am a Parent.\n",
            "I am a Personal.\n"
          ]
        }
      ]
    }
  ],
  "metadata": {
    "colab": {
      "name": "Welcome To Colab",
      "provenance": [],
      "include_colab_link": true
    },
    "kernelspec": {
      "display_name": "Python 3",
      "name": "python3"
    }
  },
  "nbformat": 4,
  "nbformat_minor": 0
}