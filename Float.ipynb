{
  "cells": [
    {
      "cell_type": "markdown",
      "metadata": {
        "id": "view-in-github",
        "colab_type": "text"
      },
      "source": [
        "<a href=\"https://colab.research.google.com/github/nainamohammed06012005/Digital_portfolio/blob/main/Float.ipynb\" target=\"_parent\"><img src=\"https://colab.research.google.com/assets/colab-badge.svg\" alt=\"Open In Colab\"/></a>"
      ]
    },
    {
      "cell_type": "code",
      "source": [
        "# Float declaration\n",
        "x = 5.75\n",
        "y = 2.0\n",
        "\n",
        "# Display the values\n",
        "print(\"x =\", x)\n",
        "print(\"y =\", y)\n",
        "\n",
        "# Arithmetic operations with floats\n",
        "print(\"Addition (x + y):\", x + y)\n",
        "print(\"Subtraction (x - y):\", x - y)\n",
        "print(\"Multiplication (x * y):\", x * y)\n",
        "print(\"Division (x / y):\", x / y)\n",
        "\n",
        "# Rounding a float\n",
        "print(\"Rounded x:\", round(x))\n",
        "\n",
        "# Type check\n",
        "print(\"Type of x:\", type(x))"
      ],
      "metadata": {
        "id": "pzy27_sgDqeT",
        "outputId": "f60ad78c-59d0-4d48-f89a-0d5f6c67084c",
        "colab": {
          "base_uri": "https://localhost:8080/"
        }
      },
      "execution_count": 5,
      "outputs": [
        {
          "output_type": "stream",
          "name": "stdout",
          "text": [
            "x = 5.75\n",
            "y = 2.0\n",
            "Addition (x + y): 7.75\n",
            "Subtraction (x - y): 3.75\n",
            "Multiplication (x * y): 11.5\n",
            "Division (x / y): 2.875\n",
            "Rounded x: 6\n",
            "Type of x: <class 'float'>\n"
          ]
        }
      ]
    }
  ],
  "metadata": {
    "colab": {
      "name": "Welcome To Colab",
      "provenance": [],
      "include_colab_link": true
    },
    "kernelspec": {
      "display_name": "Python 3",
      "name": "python3"
    }
  },
  "nbformat": 4,
  "nbformat_minor": 0
}