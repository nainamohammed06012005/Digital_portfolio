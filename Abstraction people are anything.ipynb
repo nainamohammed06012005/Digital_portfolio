{
  "cells": [
    {
      "cell_type": "markdown",
      "metadata": {
        "id": "view-in-github",
        "colab_type": "text"
      },
      "source": [
        "<a href=\"https://colab.research.google.com/github/nainamohammed06012005/Digital_portfolio/blob/main/Abstraction%20people%20are%20anything.ipynb\" target=\"_parent\"><img src=\"https://colab.research.google.com/assets/colab-badge.svg\" alt=\"Open In Colab\"/></a>"
      ]
    },
    {
      "cell_type": "code",
      "source": [
        "from abc import ABC, abstractmethod\n",
        "\n",
        "# Abstract base class\n",
        "class People(ABC):\n",
        "    @abstractmethod\n",
        "    def describe(self):\n",
        "        pass  # Abstract method, must be implemented by subclasses\n",
        "\n",
        "# Concrete class implementing People\n",
        "class Anything(People):\n",
        "    def describe(self):\n",
        "        print(\"I am anything — an implementation of People.\")\n",
        "\n",
        "# Usage\n",
        "obj = Anything()\n",
        "obj.describe()"
      ],
      "metadata": {
        "id": "JXs-L_4eKHwy",
        "outputId": "0412a608-4ea2-4c0e-af50-8d6210054066",
        "colab": {
          "base_uri": "https://localhost:8080/"
        }
      },
      "execution_count": 19,
      "outputs": [
        {
          "output_type": "stream",
          "name": "stdout",
          "text": [
            "I am anything — an implementation of People.\n"
          ]
        }
      ]
    }
  ],
  "metadata": {
    "colab": {
      "name": "Welcome To Colab",
      "provenance": [],
      "include_colab_link": true
    },
    "kernelspec": {
      "display_name": "Python 3",
      "name": "python3"
    }
  },
  "nbformat": 4,
  "nbformat_minor": 0
}